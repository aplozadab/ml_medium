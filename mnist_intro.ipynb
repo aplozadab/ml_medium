{
 "cells": [
  {
   "cell_type": "markdown",
   "id": "44b24736-bd56-4615-b9d5-449fcd953953",
   "metadata": {},
   "source": [
    "# An introduction to training neural networks\n",
    "\n",
    "Welcome! If you are new to building neural networks, you will enjoy this basic introduction to machine learning. Its a hands-on tutorial that will walk you through a classic example of fitting a neural network, Tensorflow, Keras, and the MNIST dataset."
   ]
  },
  {
   "cell_type": "markdown",
   "id": "3376e7a5-3a39-484e-9426-a2e93b10c575",
   "metadata": {},
   "source": [
    "\n",
    "## Packages \n",
    "First we are going to import the necessary packages. Tensorflow is a machine learning framework developed by Google and Keras was a framework which was added to Tensorflow to simplify the creation of layers in a neural network. This cell imports those libraries along with matplotlib and numpy--a numerical library for python."
   ]
  },
  {
   "cell_type": "code",
   "execution_count": 2,
   "id": "fc6d720f-289f-45b7-b508-1d16295a5667",
   "metadata": {},
   "outputs": [
    {
     "name": "stderr",
     "output_type": "stream",
     "text": [
      "2024-05-16 21:51:07.485160: W tensorflow/stream_executor/platform/default/dso_loader.cc:64] Could not load dynamic library 'libcudart.so.11.0'; dlerror: libcudart.so.11.0: cannot open shared object file: No such file or directory; LD_LIBRARY_PATH: /usr/local/cuda-12.4/lib64\n",
      "2024-05-16 21:51:07.485177: I tensorflow/stream_executor/cuda/cudart_stub.cc:29] Ignore above cudart dlerror if you do not have a GPU set up on your machine.\n"
     ]
    }
   ],
   "source": [
    "import numpy as np\n",
    "import tensorflow as tf\n",
    "from tensorflow.keras.models import Sequential\n",
    "from tensorflow.keras.layers import Dense\n",
    "from tensorflow.keras.activations import linear, relu, sigmoid\n",
    "%matplotlib widget\n",
    "import matplotlib.pyplot as plt\n",
    "\n",
    "import logging\n",
    "from public_tests import * \n"
   ]
  },
  {
   "cell_type": "markdown",
   "id": "dacef69e-8866-40cd-b7ad-10a157c715e4",
   "metadata": {},
   "source": [
    "Neural networks are universal function approximators which means we can use them to learn to map any input to any output. For our case, we will be doing image classification using the MNIST handwritten digit dataset. First lets import the dataset."
   ]
  },
  {
   "cell_type": "code",
   "execution_count": 36,
   "id": "71e3c796-f4b8-49ed-a70f-06daaf19a91b",
   "metadata": {},
   "outputs": [],
   "source": [
    "import keras\n",
    "(X, y), (x_test, y_test) = keras.datasets.mnist.load_data()\n",
    "X = X.reshape(-1, 28*28)\n",
    "x_test = x_test.reshape(-1, 28*28)"
   ]
  },
  {
   "cell_type": "markdown",
   "id": "5e8d61db-3c5e-4489-b856-2d96f3ec58da",
   "metadata": {},
   "source": [
    "# Visualize the Data\n",
    "Now lets visualize the first training data item, which is the number 5."
   ]
  },
  {
   "cell_type": "code",
   "execution_count": 51,
   "id": "bf575279-7f0c-4a62-afb0-6de70d7e6038",
   "metadata": {},
   "outputs": [
    {
     "data": {
      "image/png": "[encoded data removed]",
      "text/plain": [
       "<Figure size 100x100 with 1 Axes>"
      ]
     },
     "metadata": {},
     "output_type": "display_data"
    }
   ],
   "source": [
    "%matplotlib inline\n",
    "plt.figure(figsize=(1, 1))\n",
    "plt.imshow(X[0].reshape(28, 28))\n",
    "plt.show()"
   ]
  },
  {
   "cell_type": "markdown",
   "id": "113eebb0-2f2f-4474-bab0-982d0d654a3f",
   "metadata": {},
   "source": [
    "# Train the model\n",
    "We are going to perform supervised classification against the target Y values. Just for fun, we are going to set up the model to return the 10 final output logits so we can have a look at them."
   ]
  },
  {
   "cell_type": "code",
   "execution_count": 44,
   "id": "f7b74775-4f51-43bd-bfa4-ccb7f2117ae6",
   "metadata": {},
   "outputs": [
    {
     "name": "stdout",
     "output_type": "stream",
     "text": [
      "Epoch 1/25\n",
      "1875/1875 [==============================] - 7s 4ms/step - loss: 0.8818\n",
      "Epoch 2/25\n",
      "1875/1875 [==============================] - 7s 3ms/step - loss: 0.2277\n",
      "Epoch 3/25\n",
      "1875/1875 [==============================] - 7s 3ms/step - loss: 0.1578\n",
      "Epoch 4/25\n",
      "1875/1875 [==============================] - 7s 3ms/step - loss: 0.1280\n",
      "Epoch 5/25\n",
      "1875/1875 [==============================] - 7s 3ms/step - loss: 0.1099\n",
      "Epoch 6/25\n",
      "1875/1875 [==============================] - 7s 3ms/step - loss: 0.0970\n",
      "Epoch 7/25\n",
      "1875/1875 [==============================] - 7s 4ms/step - loss: 0.0874\n",
      "Epoch 8/25\n",
      "1875/1875 [==============================] - 7s 4ms/step - loss: 0.0792\n",
      "Epoch 9/25\n",
      "1875/1875 [==============================] - 7s 4ms/step - loss: 0.0756\n",
      "Epoch 10/25\n",
      "1875/1875 [==============================] - 7s 4ms/step - loss: 0.0683\n",
      "Epoch 11/25\n",
      "1875/1875 [==============================] - 7s 4ms/step - loss: 0.0572\n",
      "Epoch 12/25\n",
      "1875/1875 [==============================] - 7s 4ms/step - loss: 0.0605\n",
      "Epoch 13/25\n",
      "1875/1875 [==============================] - 7s 3ms/step - loss: 0.0487\n",
      "Epoch 14/25\n",
      "1875/1875 [==============================] - 7s 3ms/step - loss: 0.0544\n",
      "Epoch 15/25\n",
      "1875/1875 [==============================] - 7s 4ms/step - loss: 0.0537\n",
      "Epoch 16/25\n",
      "1875/1875 [==============================] - 7s 4ms/step - loss: 0.0657\n",
      "Epoch 17/25\n",
      "1875/1875 [==============================] - 7s 4ms/step - loss: 0.0504\n",
      "Epoch 18/25\n",
      "1875/1875 [==============================] - 7s 4ms/step - loss: 0.0517\n",
      "Epoch 19/25\n",
      "1875/1875 [==============================] - 7s 4ms/step - loss: 0.0453\n",
      "Epoch 20/25\n",
      "1875/1875 [==============================] - 7s 3ms/step - loss: 0.0455\n",
      "Epoch 21/25\n",
      "1875/1875 [==============================] - 7s 4ms/step - loss: 0.0420\n",
      "Epoch 22/25\n",
      "1875/1875 [==============================] - 6s 3ms/step - loss: 0.0516\n",
      "Epoch 23/25\n",
      "1875/1875 [==============================] - 6s 3ms/step - loss: 0.0529\n",
      "Epoch 24/25\n",
      "1875/1875 [==============================] - 7s 4ms/step - loss: 0.0366\n",
      "Epoch 25/25\n",
      "1875/1875 [==============================] - 7s 4ms/step - loss: 0.0569\n"
     ]
    }
   ],
   "source": [
    "model = Sequential(\n",
    "    [               \n",
    "        tf.keras.Input(shape=(784,)),\n",
    "        Dense(512, activation='relu', name = \"L1\"),\n",
    "        Dense(256, activation='relu', name = \"L2\"),\n",
    "        Dense(64, activation='relu',  name = \"L3\"),\n",
    "        Dense(10, activation='linear', name = \"L4\"),\n",
    "    ], name = \"mnist_model\" \n",
    ")\n",
    "\n",
    "model.compile(\n",
    "    loss=tf.keras.losses.SparseCategoricalCrossentropy(from_logits=True),\n",
    "    optimizer=tf.keras.optimizers.Adam(learning_rate=0.001),\n",
    ")\n",
    "\n",
    "history = model.fit(\n",
    "    X,y,\n",
    "    epochs=25\n",
    ")"
   ]
  },
  {
   "cell_type": "markdown",
   "id": "f44755a2-1ad0-4758-8c7d-9c6d06f673fb",
   "metadata": {},
   "source": [
    "Now that the model is trained, lets take a look at those output logits. The logits correspond to the prediction digits 0-9. The one logit with the largest value will be the value returned in the argmax function."
   ]
  },
  {
   "cell_type": "code",
   "execution_count": 65,
   "id": "1ad79906-d6f1-4955-8aa6-1ae0623cb244",
   "metadata": {},
   "outputs": [
    {
     "name": "stdout",
     "output_type": "stream",
     "text": [
      "1/1 [==============================] - 0s 16ms/step\n",
      "[[  99.14376    13.202532   60.50213   114.660706 -283.11496   127.66067\n",
      "   104.22364   -25.091702   99.30108    89.00973 ]]\n",
      "the model classifies this as a 5\n"
     ]
    }
   ],
   "source": [
    "logits = model.predict(X[0].reshape(1, -1))\n",
    "print(logits)\n",
    "print('the model classifies this as a', np.argmax(tf.nn.softmax(logits)))\n"
   ]
  },
  {
   "cell_type": "markdown",
   "id": "9f465f11-71b0-465e-8d36-fa626a2f96a3",
   "metadata": {},
   "source": [
    "Finally, lets evaluate the prediction accuracy of the model against the test data. Unfortunately, due to the way we set up the model, we cannot simply run model.evaluate. Instead we will call model.predict, then convert the logits into probabilities, and finally call argmax to extract the yhat classifications."
   ]
  },
  {
   "cell_type": "code",
   "execution_count": 64,
   "id": "20f3c3c8-b0c8-42c1-8b95-66296d4a33cb",
   "metadata": {},
   "outputs": [
    {
     "name": "stdout",
     "output_type": "stream",
     "text": [
      "313/313 [==============================] - 1s 2ms/step\n",
      "test accuracy 0.9764\n"
     ]
    }
   ],
   "source": [
    "test_logits = model.predict(x_test)\n",
    "test_yhat = np.argmax(tf.nn.softmax(results), axis=1)\n",
    "acc = (test_yhat == y_test).mean()\n",
    "print('test accuracy', acc)"
   ]
  },
  {
   "cell_type": "markdown",
   "id": "7992fa20-555b-40f3-847c-4194e147bc1b",
   "metadata": {},
   "source": [
    "The model achieves 97% classification accuracy on the held out test set!\n",
    "\n",
    "If you made it to the end, congratulations on completing this introduction to modeling with neural networks. \n",
    "\n",
    "This tutorial was adapted from a lecture from Andrew Ng's class on Advanced Learning Algorithms.\n",
    "\n",
    "# Resources\n",
    "* Please checkout [deeplearning.ai](deeplearning.ai) to learn more about deep learning.\n",
    "* [Keras](https://www.tensorflow.org/api_docs/python/tf/keras/Model)\n",
    "* [Tensorflow](https://www.tensorflow.org/)"
   ]
  }
 ],
 "metadata": {
  "kernelspec": {
   "display_name": "Python 3 (ipykernel)",
   "language": "python",
   "name": "python3"
  },
  "language_info": {
   "codemirror_mode": {
    "name": "ipython",
    "version": 3
   },
   "file_extension": ".py",
   "mimetype": "text/x-python",
   "name": "python",
   "nbconvert_exporter": "python",
   "pygments_lexer": "ipython3",
   "version": "3.8.10"
  }
 },
 "nbformat": 4,
 "nbformat_minor": 5
}
